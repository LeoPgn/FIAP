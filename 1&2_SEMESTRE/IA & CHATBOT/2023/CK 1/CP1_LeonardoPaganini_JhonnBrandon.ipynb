{
 "cells": [
  {
   "cell_type": "markdown",
   "id": "e8aff94b",
   "metadata": {},
   "source": [
    "## Avaliação CP 1 - IA & Chatbots\n",
    "### FIAP - 22/03/2023\n",
    "\n",
    "### Observações gerais:\n",
    "1) Para os gráficos pode-se usar as bibliotecas matplotlib ou seaborn.\n",
    "\n",
    "2) Para as funções estatísticas pode-se usar blibliotas numpy ou demais vistas em aula.\n",
    "\n",
    "3) Quando requisitado explicitamente, as funções devem ser criadas em Python.\n",
    "\n",
    "4) Liberada consulta aos apontamentos de aula.\n",
    "\n",
    "5) Escreve as respostas nas células correspondentes\n",
    "\n",
    "6) A prova deve ser feita em duplas.\n",
    "\n",
    "7) Deve ser entregue um notebook por turma. Salvar com nome: CP1_nome1_nome2.ipynb\n",
    "\n",
    "8) A prova deve ser carregada na tarefa do Teams.\n",
    "\n",
    "\n",
    "\n",
    "Turma - TDSPS1\n",
    "\n",
    "Insira os nomes e RM nas células abaixo:"
   ]
  },
  {
   "cell_type": "code",
   "execution_count": null,
   "id": "0f28192f",
   "metadata": {},
   "outputs": [],
   "source": [
    "# Aluno 1: Jhonn Brandon Cabrera Tacachiri - RM97305"
   ]
  },
  {
   "cell_type": "code",
   "execution_count": null,
   "id": "c7a3a2d5",
   "metadata": {},
   "outputs": [],
   "source": [
    "# Aluno 2: Leonardo Paganini - RM96562"
   ]
  },
  {
   "cell_type": "markdown",
   "id": "6f3e83e6",
   "metadata": {},
   "source": [
    "## 1. Crie uma função em python para realizar a média ponderada de uma lista de números e uma lista de pesos.\n",
    "\n",
    "A lista de pesos é w = [2, 4, 500, 30, 45]\n",
    "\n",
    "A lista de números é uma lista python do seu RM (use 5 números)"
   ]
  },
  {
   "cell_type": "code",
   "execution_count": 3,
   "id": "b511c8eb",
   "metadata": {},
   "outputs": [],
   "source": [
    "w = [2, 4, 500, 30, 45]\n",
    "\n",
    "x1 = [9, 6, 5, 6, 2]    #  USE AQUI OS NUMEROS DO SEU RM (aluno 1)\n",
    "x2 = [9, 7, 3, 0, 5]    #  USE AQUI OS NUMEROS DO SEU RM (aluno 2)"
   ]
  },
  {
   "cell_type": "code",
   "execution_count": 11,
   "id": "914542f8",
   "metadata": {},
   "outputs": [],
   "source": [
    "def media_ponderada(a, b):\n",
    "    if len(a) == len(b):\n",
    "        soma_a = 0\n",
    "        soma_b = 0\n",
    "        for i in range(0, len(a)):\n",
    "            soma_a += a[i]*b[i]\n",
    "            soma_b += b[i]\n",
    "        media = soma_a/soma_b\n",
    "    else:\n",
    "        print(\"Os vetores não tem o mesmo tamanho!\")\n",
    "        media = 0\n",
    "        \n",
    "    return (media)"
   ]
  },
  {
   "cell_type": "code",
   "execution_count": 14,
   "id": "a19a9727",
   "metadata": {},
   "outputs": [
    {
     "name": "stdout",
     "output_type": "stream",
     "text": [
      "4.839931153184165\n"
     ]
    }
   ],
   "source": [
    "print(media_ponderada(x1, w))"
   ]
  },
  {
   "cell_type": "code",
   "execution_count": 15,
   "id": "d72b925f",
   "metadata": {},
   "outputs": [
    {
     "name": "stdout",
     "output_type": "stream",
     "text": [
      "3.0481927710843375\n"
     ]
    }
   ],
   "source": [
    "print(media_ponderada(x2, w))"
   ]
  },
  {
   "cell_type": "markdown",
   "id": "d70576cc",
   "metadata": {},
   "source": [
    "## 2. Para os conjuntos X e Y abaixo:\n",
    "    \n",
    "Plote:\n",
    "\n",
    "a)\tQual função Python retorna o tamanho das listas?\n",
    "\n",
    "b)\tQual o tamanho das listas X e Y?\n",
    "\n",
    "c)\tO gráfico de dispersão de X e Y.\n",
    "\n",
    "d)\tO histograma de Y com 10 divisões.\n",
    "\n",
    "e)\tO que é um histograma?\n"
   ]
  },
  {
   "cell_type": "code",
   "execution_count": 39,
   "id": "f7c448fe",
   "metadata": {},
   "outputs": [],
   "source": [
    "X = [-50, -49, -48, -47, -46, -45, -44, -43, -42, -41, -40, -39, -38, -37, -36, -35, -34, -33, -32, -31, -30, -29, -28, -27, -26, -25, -24, -23, -22, -21, -20, -19, -18, -17, -16, -15, -14, -13, -12, -11, -10, -9,  -8,  -7,  -6,  -5,  -4,  -3,  -2,  -1,   0,   1,   2,   3,   4,   5,   6,   7,   8,   9,  10,  11,  12,  13,  14,  15,  16,  17,  18,  19,  20,  21,  22,  23,  24,  25,  26,  27,  28,  29,  30,  31,  32,  33,  34,  35,  36,  37,  38,  39,  40,  41,  42,  43,  44,  45,  46,  47,  48,  49]"
   ]
  },
  {
   "cell_type": "code",
   "execution_count": 40,
   "id": "df7a2212",
   "metadata": {},
   "outputs": [],
   "source": [
    "Y = [-210, -206, -202, -198, -194, -190, -186, -182, -178, -174, -170, -166, -162, -158, -154, -150, -146, -142, -138, -134, -130, -126, -122, -118, -114, -110, -106, -102,  -98,  -94, -90,  -86,  -82,  -78,  -74,  -70,  -66,  -62,  -58,  -54,  -50,  -46,  -42,  -38,  -34,  -30,  -26,  -22,  -18,  -14,  -10,   -6,   -2,    2 ,   6,   10,   14,   18,   22,   26,   30,   34,   38,   42,   46,   50,   54,   58,   62,   66,   70,   74,   78,   82,   86,   90,   94,   98,  102,  106,  110,  114,  118,  122,  126,  130,  134,  138,  142,  146,  150,  154, 158,  162,  166,  170,  174,  178,  182,  186]"
   ]
  },
  {
   "cell_type": "code",
   "execution_count": 41,
   "id": "7233cbb1",
   "metadata": {},
   "outputs": [],
   "source": [
    "import numpy as np\n",
    "import matplotlib.pyplot as plt"
   ]
  },
  {
   "cell_type": "markdown",
   "id": "2cbf2a1f",
   "metadata": {},
   "source": [
    "### Respostas: "
   ]
  },
  {
   "cell_type": "code",
   "execution_count": 31,
   "id": "5f3f6548",
   "metadata": {},
   "outputs": [],
   "source": [
    "# a)\n",
    "def retorna_tamanho(a):\n",
    "    tamanho = len(a)\n",
    "    print (tamanho)"
   ]
  },
  {
   "cell_type": "code",
   "execution_count": null,
   "id": "2614c0a0",
   "metadata": {},
   "outputs": [],
   "source": [
    "retorna_tamanho(X)\n",
    "retorna_tamanho(Y)"
   ]
  },
  {
   "cell_type": "code",
   "execution_count": 43,
   "id": "14da56d7",
   "metadata": {},
   "outputs": [
    {
     "data": {
      "image/png": "[encoded data removed]",
      "text/plain": [
       "<Figure size 432x288 with 1 Axes>"
      ]
     },
     "metadata": {
      "needs_background": "light"
     },
     "output_type": "display_data"
    }
   ],
   "source": [
    "# c)\n",
    "plt.scatter(X, Y)\n",
    "plt.show()"
   ]
  },
  {
   "cell_type": "code",
   "execution_count": 45,
   "id": "bc2f18ce",
   "metadata": {},
   "outputs": [
    {
     "data": {
      "image/png": "[encoded data removed]",
      "text/plain": [
       "<Figure size 432x288 with 1 Axes>"
      ]
     },
     "metadata": {
      "needs_background": "light"
     },
     "output_type": "display_data"
    }
   ],
   "source": [
    "# d)\n",
    "num_divisoes = 10\n",
    "plt.hist(Y, bins=num_divisoes)\n",
    "plt.xlabel('Valores de Y')\n",
    "plt.ylabel('Frequência')\n",
    "plt.show()"
   ]
  },
  {
   "cell_type": "code",
   "execution_count": null,
   "id": "23455066",
   "metadata": {},
   "outputs": [],
   "source": [
    "# e) histogramas são curvas de distribuição discretas"
   ]
  },
  {
   "cell_type": "markdown",
   "id": "121d6301",
   "metadata": {},
   "source": [
    "## 3. Considere a lista BB abaixo:\n",
    "\n",
    "Temos as cotações máximas da ação do Banco do Brasil entre 1/12/2022 e 31/12/2022.\n",
    "\n",
    "a)\tQual a média e desvio padrão dessas cotações?\n",
    "\n",
    "b)\tTem muita variação no valor desta ação neste mês? Porque?\n",
    "\n",
    "c)\tPlote um gráfico \"temporal\" dessas ações, usando dispersão, considerando 21 dias úteis. Sugestão vc pode criar uma lista de 21 dias para usar no eixo x (horizontal).\n"
   ]
  },
  {
   "cell_type": "code",
   "execution_count": 48,
   "id": "9b40d0e7",
   "metadata": {},
   "outputs": [],
   "source": [
    "BB = [35.04, 34.8, 35.45, 35.57, 35.64, 34.85, 34.46, 34.16, 33.45, 32.76, 32.53, 31.57, 33.95, 35.39, 35.18, 35.96, 35.94, 35.56, 35.96, 36.72, 35.56]"
   ]
  },
  {
   "cell_type": "markdown",
   "id": "bd841519",
   "metadata": {},
   "source": [
    "### Respostas:"
   ]
  },
  {
   "cell_type": "code",
   "execution_count": 49,
   "id": "fb0cc489",
   "metadata": {},
   "outputs": [
    {
     "name": "stdout",
     "output_type": "stream",
     "text": [
      "Média:  34.785714285714285\n",
      "Desvio padrão:  1.2709073302868588\n"
     ]
    }
   ],
   "source": [
    "# a) \n",
    "media = np.mean(BB)\n",
    "desvio_padrao = np.std(BB)\n",
    "\n",
    "print(\"Média: \", media)\n",
    "print(\"Desvio padrão: \", desvio_padrao)"
   ]
  },
  {
   "cell_type": "code",
   "execution_count": null,
   "id": "6584537a",
   "metadata": {},
   "outputs": [],
   "source": [
    "# b) Não teve muita variação neste mês, pois o valor do desvio é muito menor que o valor da média."
   ]
  },
  {
   "cell_type": "code",
   "execution_count": 50,
   "id": "a4ad133e",
   "metadata": {},
   "outputs": [
    {
     "data": {
      "image/png": "[encoded data removed]",
      "text/plain": [
       "<Figure size 432x288 with 1 Axes>"
      ]
     },
     "metadata": {
      "needs_background": "light"
     },
     "output_type": "display_data"
    }
   ],
   "source": [
    "# c)\n",
    "ultimos_dias = 21\n",
    "ultimos_valores = BB[-ultimos_dias:]\n",
    "dias = list(range(1, ultimos_dias + 1))\n",
    "plt.scatter(dias, ultimos_valores)\n",
    "plt.xlabel(\"Dias\")\n",
    "plt.ylabel(\"Cotações\")\n",
    "plt.title(\"Cotações do Banco do Brasil nos últimos 21 dias úteis\")\n",
    "plt.show()"
   ]
  },
  {
   "attachments": {
    "image-2.png": {
     "image/png": "[encoded data removed]"
    }
   },
   "cell_type": "markdown",
   "id": "575bd4a7",
   "metadata": {},
   "source": [
    "## 4. O que significam os símbolos e o que representa a fórmula abaixo?\n",
    "\n",
    "![image-2.png](attachment:image-2.png)\n",
    "\n",
    "Considere \"xi\" como elementos de uma lista Python X."
   ]
  },
  {
   "cell_type": "code",
   "execution_count": null,
   "id": "73a98f58",
   "metadata": {},
   "outputs": [],
   "source": [
    "# Resposta:\n",
    "A formula representa a média aritmetica.\n",
    "Σ = símbolo que indica soma na matemática\n",
    "n = número de elementos da série, amostra ou população\n",
    "i = 1 => indica que  a soma inicia-se com o primeiro elemento da série\n",
    "Xi = valores de cada elemento da séria\n",
    "X = o ‘x” com a linha em cima indica o valor da média aritmética simples"
   ]
  }
 ],
 "metadata": {
  "kernelspec": {
   "display_name": "Python 3 (ipykernel)",
   "language": "python",
   "name": "python3"
  },
  "language_info": {
   "codemirror_mode": {
    "name": "ipython",
    "version": 3
   },
   "file_extension": ".py",
   "mimetype": "text/x-python",
   "name": "python",
   "nbconvert_exporter": "python",
   "pygments_lexer": "ipython3",
   "version": "3.9.12"
  }
 },
 "nbformat": 4,
 "nbformat_minor": 5
}
