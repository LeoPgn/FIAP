{
  "cells": [
    {
      "cell_type": "markdown",
      "metadata": {
        "id": "YuA17r7K0uhw"
      },
      "source": [
        "### Curso: Tecnologia em Análise e Desenvolvimento de Sistemas\n",
        "### Disciplina: Disruptive Architectures - IOT, IOB e IA\n",
        "### Turmas: 2TDSPR, 2TDSPS e 2TDSPT\n",
        "#### Prof. André Tritiack: prof.andrefarias@fiap.com.br\n",
        "#### 2º Semestre de 2023\n",
        "\n",
        "## CHECKPOINT 1 - Pontuação Máxima: 10.00 pontos\n",
        "\n",
        "LEIA ATENTAMENTE AS INSTRUÇÕES:\n",
        "\n",
        "1.\tO trabalho deve ser realizado em grupo de até 5 (cinco) pessoas. Não precisa necessariamente ser o mesmo grupo do Challenge.\n",
        "\n",
        "2. O conteúdo relacionado a este Checkpoint refere-se aos algoritmos de Aprendizado de Máquina Não Supervisionados de Agrupamento (K-Means) e Redução de Dimensionalidade (PCA - Principal Component Analysis).\n",
        "\n",
        "3.\tVocê deverá submeter uma cópia deste arquivo notebook .ipynb com as respostas nos campos indicados e as saídas executadas. Anexe os arquivos auxiliares que utilizar.\n",
        "\n",
        "4. É fundamental que sejam criadas células de texto e/ou comentários para suas respostas e apontamentos.\n",
        "\n",
        "5.\tApenas um aluno submeterá o arquivo no Teams. Mude o nome do arquivo notebook para um nome com as iniciais do seu nome completo (de quem submeterá o arquivo), seguido do seu RM e \"CP1\". Exemplo: ATF12000 - CP1\n",
        "\n",
        "6.\tA entrega deverá ser feita até às 23h59 do dia 10/09/2023 na respectiva tarefa no Microsoft Teams.\n",
        "\n",
        "7.\tAs pontuações das questões estão marcadas nos enunciados.\n",
        "\n",
        "8.\tVocê pode usar trechos de códigos prontos, de fontes pesquisadas ou de notebooks das aulas, mas não copie de outros grupos. Se forem observados arquivos iguais ou muito semelhantes, ambos serão desconsiderados, tendo suas notas zeradas.\n",
        "\n",
        "9. Tire suas dúvidas com o professor e não deixe a entrega para o último dia.\n"
      ]
    },
    {
      "cell_type": "markdown",
      "metadata": {
        "id": "V4P5XGwU6yqy"
      },
      "source": [
        "### Insira aqui o nome e o RM dos membros do grupo:\n",
        "Exemplo:\n",
        "- Leonardo Paganini - RM: 96562.\n",
        "- Regina Pompeo - RM: 97032.\n",
        "- Jhonn Brandon - RM: 97305.\n",
        "- Matheus Leite Oliveira Scalfo - RM: 96893."
      ]
    },
    {
      "cell_type": "markdown",
      "metadata": {
        "id": "hz85DuaW7IFx"
      },
      "source": [
        "# Questão 1 (2.50 pontos):\n",
        "\n",
        "Utilizando o dataset \"Mall Customers\", disponível em https://www.kaggle.com/datasets/kandij/mall-customers, agrupar os clientes com base nas características de receita anual (Annual Income (k$)) e pontuação de gastos (Spending Score).\n",
        "\n",
        "- Determine o valor ideal de k, com base no método Elbow.\n",
        "- Treine o modelo e avalie a qualidade dos clusters, utilizando a métrica Silhoutte Score."
      ]
    },
    {
      "cell_type": "code",
      "execution_count": null,
      "metadata": {
        "id": "i7jK2fxb0jLJ"
      },
      "outputs": [],
      "source": [
        "# Utilize as células a seguir para a resolução da questão (crie quantas células forem necessárias)"
      ]
    },
    {
      "cell_type": "code",
      "execution_count": null,
      "metadata": {
        "id": "TUEi01or8Mua"
      },
      "outputs": [],
      "source": []
    },
    {
      "cell_type": "code",
      "execution_count": null,
      "metadata": {
        "id": "Z89UxjIy8MhQ"
      },
      "outputs": [],
      "source": []
    },
    {
      "cell_type": "code",
      "execution_count": null,
      "metadata": {
        "id": "IGUUvGTk_Ukp"
      },
      "outputs": [],
      "source": []
    },
    {
      "cell_type": "markdown",
      "metadata": {
        "id": "Pp0uY_4m8U2x"
      },
      "source": [
        "# Questão 02 (1.50 pontos):\n",
        "\n",
        "- Usando o dataset Iris, utilize a técnica de redução de dimensionalidade Principal Component Analysis (PCA) e apresente os resultados."
      ]
    },
    {
      "cell_type": "code",
      "execution_count": null,
      "metadata": {
        "id": "Wb2EU2GA8zwC"
      },
      "outputs": [],
      "source": [
        "# Utilize as células a seguir para a resolução da questão (crie quantas células forem necessárias)\n"
      ]
    },
    {
      "cell_type": "code",
      "execution_count": null,
      "metadata": {
        "id": "TpYJRdDP9CA-"
      },
      "outputs": [],
      "source": []
    },
    {
      "cell_type": "code",
      "execution_count": null,
      "metadata": {
        "id": "n1gWDAZ69Bvj"
      },
      "outputs": [],
      "source": []
    },
    {
      "cell_type": "code",
      "execution_count": null,
      "metadata": {
        "id": "qnHEjpFV_UBv"
      },
      "outputs": [],
      "source": []
    },
    {
      "cell_type": "markdown",
      "metadata": {
        "id": "K9we1Afu9OMh"
      },
      "source": [
        "# Questão 03 (6.00 pontos):\n",
        "\n",
        "- Escolher um dataset de sua preferência que possua ao menos uma coluna com valores categóricos para ser utilizada como \"Target\".\n",
        "\n",
        "- Não utilize os datasets utilizados em aula (Mall Customers, Iris, House Power Consumption e Adult Census).\n",
        "\n",
        "- Aplicar a técnica de redução de dimensionalidade, usando o algoritmo PCA.\n",
        "\n",
        "- Com base no novo dataset (após a aplicação da redução), utilizar um algoritmo de classificação treinar um modelos de classificação e calcular sua acurácia."
      ]
    },
    {
      "cell_type": "code",
      "execution_count": null,
      "metadata": {
        "id": "Fo74v5_f_RFh"
      },
      "outputs": [],
      "source": [
        "# Utilize as células a seguir para a resolução da questão (crie quantas células forem necessárias)\n"
      ]
    },
    {
      "cell_type": "code",
      "execution_count": null,
      "metadata": {
        "id": "sgBwWAUe_TPz"
      },
      "outputs": [],
      "source": []
    },
    {
      "cell_type": "code",
      "execution_count": null,
      "metadata": {
        "id": "C6kvGrKi_S0v"
      },
      "outputs": [],
      "source": []
    },
    {
      "cell_type": "code",
      "execution_count": null,
      "metadata": {
        "id": "r81XqytE_Srh"
      },
      "outputs": [],
      "source": []
    },
    {
      "cell_type": "markdown",
      "metadata": {
        "id": "5QKagK61_30x"
      },
      "source": [
        "### Questão Extra (+1.00 ponto)\n",
        "\n",
        "- Além da resolução em Python, apresente uma solução para a Questão 03 utilizando o software Orange Data Mining.\n",
        "\n",
        "- Anexe o arquivo .ows (do Orange) juntamente com o arquivo deste notebook.\n"
      ]
    }
  ],
  "metadata": {
    "colab": {
      "provenance": []
    },
    "kernelspec": {
      "display_name": "Python 3",
      "name": "python3"
    },
    "language_info": {
      "name": "python"
    }
  },
  "nbformat": 4,
  "nbformat_minor": 0
}
