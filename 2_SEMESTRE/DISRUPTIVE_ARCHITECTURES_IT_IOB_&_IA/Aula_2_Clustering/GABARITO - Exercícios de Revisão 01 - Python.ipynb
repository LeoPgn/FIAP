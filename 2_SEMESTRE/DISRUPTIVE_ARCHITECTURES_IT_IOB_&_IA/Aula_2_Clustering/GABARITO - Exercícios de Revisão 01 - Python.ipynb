{
 "cells": [
  {
   "cell_type": "markdown",
   "id": "30a4731a",
   "metadata": {},
   "source": [
    "## Exercício de Revisão 01\n",
    "\n",
    "### Salário com Bônus\n",
    "\n",
    "\n",
    "\n",
    "\n",
    "\n"
   ]
  },
  {
   "cell_type": "markdown",
   "id": "6139a366",
   "metadata": {},
   "source": [
    "Faça um programa que leia o nome de um vendedor, o seu salário fixo e o total de vendas efetuadas por ele no mês (em dinheiro). Sabendo que este vendedor ganha 15% de comissão sobre suas vendas efetuadas, informar o total a receber no final do mês, com duas casas decimais."
   ]
  },
  {
   "cell_type": "markdown",
   "id": "730d7139",
   "metadata": {},
   "source": [
    "Entrada:\n",
    "O arquivo de entrada contém um texto (primeiro nome do vendedor) e 2 valores de dupla precisão (double) com duas casas decimais, representando o salário fixo do vendedor e montante total das vendas efetuadas por este vendedor, respectivamente.\n",
    "\n",
    "Saída:\n",
    "Imprima o total que o funcionário deverá receber."
   ]
  },
  {
   "cell_type": "code",
   "execution_count": null,
   "id": "b0de9715",
   "metadata": {},
   "outputs": [],
   "source": [
    "# Recebendo os valores:\n",
    "# Lembre-se que o padrão do dados recebido via input() é str (string).\n",
    "# Por este motivo, convertemos o valor digitado do salário e do total de vendas para float().\n",
    "# A variável do tipo float já é de dupla precisão.\n",
    "nome_vendedor = input('Nome do vendedor: ')\n",
    "salario = float(input('Salário: '))\n",
    "total_vendas = float(input('Total de vendas: '))"
   ]
  },
  {
   "cell_type": "code",
   "execution_count": null,
   "id": "c05a7413",
   "metadata": {},
   "outputs": [],
   "source": [
    "# Calculamos a comissão de 15% sobre o valor total de vendas.\n",
    "comissao = 0.15 * total_vendas\n",
    "# Calculamos o salário final.\n",
    "salario_final = salario + comissao\n",
    "print(f'O valor total que o funcionário {nome_vendedor} deverá receber é:\\nR$ {salario_final:.2f}')"
   ]
  },
  {
   "cell_type": "markdown",
   "id": "7938949e",
   "metadata": {},
   "source": [
    "## Exercício de Revisão 02\n",
    "\n",
    "### Distância entre dois pontos\n",
    "\n",
    "Leia os quatro valores correspondentes aos eixos x e y de dois pontos quaisquer no plano, p1(x1,y1) e p2(x2,y2) e calcule a distância entre eles, mostrando 4 casas decimais após a vírgula.\n",
    "\n",
    "Entrada:\n",
    "O arquivo de entrada contém duas linhas de dados. A primeira linha contém dois valores de ponto flutuante: x1 y1 e a segunda linha contém dois valores de ponto flutuante x2 y2.\n",
    "\n",
    "Saída:\n",
    "Calcule e imprima o valor da distância, com 4 casas após o ponto decimal."
   ]
  },
  {
   "cell_type": "code",
   "execution_count": null,
   "id": "18e17a97",
   "metadata": {},
   "outputs": [],
   "source": [
    "# Valores de exemplo para testes: \n",
    "# Ponto 1: 1.0 7.0\n",
    "# Ponto 2: 5.0 9.0\n",
    "# A distância calculada será de 4.4721\n",
    "\n",
    "# Ponto 1: -2.5 0.4\n",
    "# Ponto 2: 12.1 7.3\n",
    "# A distância calculada será de 16.1484"
   ]
  },
  {
   "cell_type": "markdown",
   "id": "ad93d355",
   "metadata": {},
   "source": [
    "Fórmula da distância entre dois pontos.\n",
    "\n",
    "https://pt.khanacademy.org/math/geometry/hs-geo-analytic-geometry/hs-geo-distance-and-midpoints/a/distance-formula\n",
    "    "
   ]
  },
  {
   "cell_type": "code",
   "execution_count": null,
   "id": "5a839caf",
   "metadata": {},
   "outputs": [],
   "source": [
    "# Recebe os valores das coordenadas do pontos, usando o método split (recebe uma string e cria uma lista)\n",
    "p1 = input('Coordenadas do ponto 1: ').split()\n",
    "p2 = input('Coordenadas do ponto 2: ').split()\n",
    "\n",
    "# Converte os valores str para float\n",
    "x1 = float(p1[0])\n",
    "y1 = float(p1[1])\n",
    "\n",
    "x2 = float(p2[0])\n",
    "y2 = float(p2[1])\n",
    "\n",
    "# Visualiza as coordenadas\n",
    "print(f'Ponto 1: {x1}, {y1}')\n",
    "print(f'Ponto 2: {x2}, {y2}')"
   ]
  },
  {
   "cell_type": "code",
   "execution_count": null,
   "id": "1a7c8a13",
   "metadata": {},
   "outputs": [],
   "source": [
    "# Aplicando a fórmula:\n",
    "distancia = (((x2-x1)**2)+((y2-y1)**2))**(1/2) "
   ]
  },
  {
   "cell_type": "code",
   "execution_count": null,
   "id": "cc8a75e3",
   "metadata": {},
   "outputs": [],
   "source": [
    "print(f'Distância: {distancia:.4f}')"
   ]
  },
  {
   "cell_type": "markdown",
   "id": "1ec9ed69",
   "metadata": {},
   "source": [
    "## Exercício de Revisão 03\n",
    "\n",
    "### Tipos de triângulo\n",
    "\n",
    "Leia 3 valores de ponto flutuante A, B e C e ordene-os em ordem decrescente, de modo que o lado A representa o maior dos 3 lados. A seguir, determine o tipo de triângulo que estes três lados formam, com base nos seguintes casos, sempre escrevendo uma mensagem adequada:\n",
    "\n",
    "se A ≥ B+C, apresente a mensagem: NAO FORMA TRIANGULO se A2 = B2 + C2, apresente a mensagem: TRIANGULO RETANGULO se A2 > B2 + C2, apresente a mensagem: TRIANGULO OBTUSANGULO se A2 < B2 + C2, apresente a mensagem: TRIANGULO ACUTANGULO se os três lados forem iguais, apresente a mensagem: TRIANGULO EQUILATERO se apenas dois dos lados forem iguais, apresente a mensagem: TRIANGULO ISOSCELES\n",
    "\n",
    "Entrada: A entrada contem três valores de ponto flutuante de dupla precisão A (0 < A) , B (0 < B) e C (0 < C).\n",
    "\n",
    "Saída: Imprima todas as classificações do triângulo especificado na entrada."
   ]
  },
  {
   "cell_type": "code",
   "execution_count": null,
   "id": "5b09ec97",
   "metadata": {},
   "outputs": [],
   "source": [
    "# Utilize os espaços abaixo para escrever a solução.\n",
    "\n",
    "# Triângulos para teste:\n",
    "# 6.0 6.0 10.0 --> TRIANGULO OBTUSANGULO TRIANGULO ISOSCELES\n",
    "# 7.0 5.0 7.0 --> TRIANGULO ACUTANGULO TRIANGULO ISOSCELES\n",
    "# 6.0 8.0 10.0 --> TRIANGULO RETANGULO\n",
    "# 5.0 7.0 2.0 --> NAO FORMA TRIANGULO\n",
    "# 6.0 6.0 6.0 --> TRIANGULO ACUTANGULO TRIANGULO EQUILATERO"
   ]
  },
  {
   "cell_type": "code",
   "execution_count": null,
   "id": "6ac8b00c",
   "metadata": {},
   "outputs": [],
   "source": [
    "# Lendo os valores de entrada dos três lados do triângulo:\n",
    "lista = input('Entre com os 3 lados do triângulo: ').split()\n",
    "a, b, c = lista\n",
    "\n",
    "# Variáveis float para verificar o maior e o menor lado:\n",
    "maior = float(1) \n",
    "interm = float(1) \n",
    "menor = float(1) \n",
    "\n",
    "# Converte os valores de a, b e c (str) em float.\n",
    "a = float(a)\n",
    "b = float(b)\n",
    "c = float(c)\n",
    "\n",
    "# Verifica se a é o maior lado.\n",
    "if a >= b and a >= c: \n",
    "    maior = a            \n",
    "    if b >= c:           # verifica se b é maior que c.\n",
    "        interm = b        \n",
    "        menor = c        # c é o menor lado.\n",
    "    else: \n",
    "        interm = c\n",
    "        menor = b        # b é o menor lado.\n",
    "\n",
    "# Verifica se b é o maior lado.\n",
    "if b >= a and b >= c: \n",
    "    maior = b            \n",
    "    if a >= c:           # verifica se a é maior que c.\n",
    "        interm = a        \n",
    "        menor = c        # c é o menor lado.\n",
    "    else: \n",
    "        interm = c\n",
    "        menor = a        # a é o menor lado.\n",
    "        \n",
    "# Verifica se c é o maior lado.\n",
    "if c >= a and c >= b: \n",
    "    maior = c            \n",
    "    if a >= b:           # verifica se a é maior que b.\n",
    "        interm = a        \n",
    "        menor = b        # b é o menor lado.\n",
    "    else: \n",
    "        interm = b\n",
    "        menor = a        # a é o menor lado.\n",
    "\n",
    "# Verifica se os lados são iguais\n",
    "if a == b and b == c:\n",
    "    maior = a\n",
    "    interm = b\n",
    "    menor = c\n",
    "    \n",
    "# Atribui às novas variáveis A, B e C o maior, intermediário e menor lado, respectivamente.\n",
    "A = maior\n",
    "B = interm\n",
    "C = menor\n",
    "\n",
    "# Opcional:\n",
    "# print(f'Maior lado: {A}\\nLado Intermediário: {B}\\nMenor lado: {C}')\n",
    "\n",
    "if A >= (A + C):\n",
    "    print('NAO FORMA TRIANGULO')\n",
    "else:\n",
    "    if (A ** 2) == (B ** 2 + C ** 2):\n",
    "        print('TRIANGULO RETANGULO')\n",
    "    if (A ** 2) > (B ** 2 + C ** 2):\n",
    "        print('TRIANGULO OBTUSANGULO')\n",
    "    if (A ** 2) < (B ** 2 + C ** 2):\n",
    "        print('TRIANGULO ACUTANGULO')\n",
    "    if (A == B == C):\n",
    "        print('TRIANGULO EQUILATERO')\n",
    "    if A == B != C or B == C != A or A == C != B:\n",
    "        print('TRIANGULO ISOSCELES')"
   ]
  },
  {
   "cell_type": "markdown",
   "id": "9bde8b66",
   "metadata": {},
   "source": [
    "## Exercício de Revisão 04\n",
    "\n",
    "\n",
    "### Média Ponderada\n",
    "Leia quatro números (N1, N2, N3, N4), cada um deles com uma casa decimal, correspondente às quatro notas de um aluno. Calcule a média com pesos 2, 3, 4 e 1, respectivamente, para cada uma destas notas e mostre esta média acompanhada pela mensagem \"Media: \". Se esta média for maior ou igual a 7.0, imprima a mensagem \"Aluno aprovado.\". Se a média calculada for inferior a 5.0, imprima a mensagem \"Aluno reprovado.\". Se a média calculada for um valor entre 5.0 e 6.9, inclusive estas, o programa deve imprimir a mensagem \"Aluno em exame.\".\n",
    "\n",
    "No caso do aluno estar em exame, leia um valor correspondente à nota do exame obtida pelo aluno. Imprima então a mensagem \"Nota do exame: \" acompanhada pela nota digitada. Recalcule a média (some a pontuação do exame com a média anteriormente calculada e divida por 2). e imprima a mensagem \"Aluno aprovado.\" (caso a média final seja 5.0 ou mais ) ou \"Aluno reprovado.\", (caso a média tenha ficado 4.9 ou menos). Para estes dois casos (aprovado ou reprovado após ter pego exame) apresente na última linha uma mensagem \"Media final: \" seguido da média final para esse aluno.\n",
    "\n",
    "Entrada:\n",
    "A entrada contém quatro números de ponto flutuante correspendentes as notas dos alunos.\n",
    "\n",
    "Saída: \n",
    "Todas as respostas devem ser apresentadas com uma casa decimal. As mensagens devem ser impressas conforme a descrição do problema. \n",
    "\n",
    "\n"
   ]
  },
  {
   "cell_type": "code",
   "execution_count": null,
   "id": "324c4ba5",
   "metadata": {},
   "outputs": [],
   "source": [
    "# Valores de exemplo para teste:\n",
    "\n",
    "# 2.0 4.0 7.5 8.0\n",
    "# Média: 5.4\n",
    "# Aluno em exame \n",
    "# Nota do exame: 6.4\n",
    "# Aluno aprovado.\n",
    "# Media final: 5.9\n",
    "\n",
    "# 2.0 6.5 4.0 9.0\n",
    "# Media: 4.8\n",
    "# Aluno reprovado.\n",
    "\n",
    "# 9.0 4.0 8.5 9.0\n",
    "# Media: 7.3\n",
    "# Aluno aprovado."
   ]
  },
  {
   "cell_type": "code",
   "execution_count": null,
   "id": "99aa9c73",
   "metadata": {},
   "outputs": [],
   "source": [
    "# Lendo os valores das quatro notas do aluno e calculando a média:\n",
    "notas = input().split()\n",
    "N1, N2, N3, N4 = notas\n",
    "\n",
    "N1 = float(N1)\n",
    "N2 = float(N2)\n",
    "N3 = float(N3)\n",
    "N4 = float(N4)\n",
    "\n",
    "media = (2 * N1 + 3 * N2 + 4 * N3 + N4) / 10.0\n",
    "\n",
    "print(f'Media: {media:.1f}')\n",
    "\n",
    "if media >= 7.0 :\n",
    "    print('Aluno aprovado.')\n",
    "\n",
    "elif media < 5.0:\n",
    "    print('Aluno reprovado.')\n",
    "    \n",
    "elif(media >= 5.0 and media < 7.0):\n",
    "    print('Aluno em exame.')\n",
    "    exame = float(input('Nota do exame: '))\n",
    "    media = (media + exame) / 2\n",
    "    if media >= 5.0:\n",
    "        print('Aluno aprovado.')\n",
    "    else: \n",
    "        print('Aluno reprovado.')\n",
    "              \n",
    "    print(f'Media final: {media:.1f}')\n",
    "    \n",
    "   \n",
    "    "
   ]
  },
  {
   "cell_type": "code",
   "execution_count": null,
   "id": "41002089",
   "metadata": {},
   "outputs": [],
   "source": []
  },
  {
   "cell_type": "code",
   "execution_count": null,
   "id": "745708dc",
   "metadata": {},
   "outputs": [],
   "source": []
  },
  {
   "cell_type": "code",
   "execution_count": null,
   "id": "3593ebbb",
   "metadata": {},
   "outputs": [],
   "source": []
  }
 ],
 "metadata": {
  "kernelspec": {
   "display_name": "Python 3 (ipykernel)",
   "language": "python",
   "name": "python3"
  },
  "language_info": {
   "codemirror_mode": {
    "name": "ipython",
    "version": 3
   },
   "file_extension": ".py",
   "mimetype": "text/x-python",
   "name": "python",
   "nbconvert_exporter": "python",
   "pygments_lexer": "ipython3",
   "version": "3.9.12"
  }
 },
 "nbformat": 4,
 "nbformat_minor": 5
}
